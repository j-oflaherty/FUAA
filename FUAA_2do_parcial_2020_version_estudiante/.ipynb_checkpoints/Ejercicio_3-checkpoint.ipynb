{
 "cells": [
  {
   "cell_type": "markdown",
   "metadata": {},
   "source": [
    "# <center> FUNDAMENTOS DE APRENDIZAJE AUTOMÁTICO <br> Y RECONOCIMIENTO DE PATRONES</center>\n",
    "## <center> 2do parcial, 2020</center>           \n",
    "\n",
    "La duración del parcial es de 3 horas. El parcial consta de 3 ejercicios, cuya suma total es de 100 puntos. El parcial es sin material y no está permitido acceder a Internet. Ante cualquier duda comuníquese con los docentes. \n",
    "\n",
    "Este notebook corresponde al ejercicio 3. Hay un notebook por ejercicio planteado.\n",
    "\n",
    "* [Ejercicio 3 - SVM](#Ejercicio1) (30 puntos)"
   ]
  },
  {
   "cell_type": "code",
   "execution_count": 1,
   "metadata": {},
   "outputs": [],
   "source": [
    "import numpy as np\n",
    "from matplotlib import pyplot as plt\n",
    "\n",
    "import pickle\n",
    "import itertools\n",
    "\n",
    "from sklearn.datasets import make_blobs\n",
    "from sklearn.datasets import make_circles\n",
    "\n",
    "from sklearn import svm\n",
    "from sklearn.decomposition import PCA\n",
    "from sklearn.model_selection import GridSearchCV\n",
    "from sklearn.model_selection import train_test_split\n",
    "from sklearn.metrics import confusion_matrix\n",
    "\n",
    "plt.rcParams['figure.figsize'] = (10.0, 8.0)"
   ]
  },
  {
   "cell_type": "markdown",
   "metadata": {},
   "source": [
    "# Ejercicio 3"
   ]
  },
  {
   "cell_type": "markdown",
   "metadata": {},
   "source": [
    "En este ejercicio se aplican Máquinas de Vectores de Sporte (SVM, Support Vector Machines) a diferentes conjuntos de datos."
   ]
  },
  {
   "cell_type": "markdown",
   "metadata": {},
   "source": [
    "### Ejercicio 3 - parte a)  "
   ]
  },
  {
   "cell_type": "markdown",
   "metadata": {},
   "source": [
    "Considere el siguiente conjunto de datos sintético y las tres fronteras de decisión representadas correspondientes a discriminantes lineales."
   ]
  },
  {
   "cell_type": "code",
   "execution_count": null,
   "metadata": {},
   "outputs": [],
   "source": [
    "X, y = make_blobs(n_samples=50, centers=2,\n",
    "                  random_state=0, cluster_std=0.60)\n",
    "\n",
    "xfit = np.linspace(-1, 3.5)\n",
    "plt.scatter(X[:, 0], X[:, 1], c=y, s=50, cmap='coolwarm')\n",
    "\n",
    "colors = ['crimson', 'seagreen', 'royalblue']\n",
    "ind = 0\n",
    "\n",
    "for m, b, d in [(1, 0.65, 0.37), (0.5, 1.6, 0.58), (-0.2, 2.9, 0.2)]:\n",
    "    yfit = m * xfit + b\n",
    "    plt.plot(xfit, yfit, '-', color=colors[ind])\n",
    "    plt.fill_between(xfit, yfit - d, yfit + d, edgecolor='none',\n",
    "                     color=colors[ind], alpha=0.4)\n",
    "    ind+=1\n",
    "\n",
    "plt.xlim(-1, 3.5);"
   ]
  },
  {
   "cell_type": "markdown",
   "metadata": {},
   "source": [
    "Indique cuál de las fronteras de decisión considera más adecuada y justifique su respuesta. \n",
    "\n",
    "Para ello explique en qué consiste el margen y por qué maximizarlo es ventajoso."
   ]
  },
  {
   "cell_type": "markdown",
   "metadata": {},
   "source": [
    "**Respuesta:**\n",
    "\n",
    "...\n"
   ]
  },
  {
   "cell_type": "markdown",
   "metadata": {},
   "source": [
    "### Ejercicio 3 - parte b)  "
   ]
  },
  {
   "cell_type": "markdown",
   "metadata": {},
   "source": [
    "Complete la siguiente función para ajustar un modelo de SVM (con kernel `linear` por defecto) y parámetro de regularización `C` (con valor `C=1E10` por defecto) y devolver los vectores de soporte.\n",
    "\n",
    "**NOTA:** Preste atención a usar los valores de los parámetros `kernel` y `C` que se pasan a la función `svm_linear`."
   ]
  },
  {
   "cell_type": "code",
   "execution_count": null,
   "metadata": {},
   "outputs": [],
   "source": [
    "def svm_model(X, y, kernel='linear', C=1E10):\n",
    "    \"\"\"Se ajusta un modelo SVM con kernel lineal a los datos y C=1E10\"\"\"\n",
    "    \n",
    "    ##########################################################################################\n",
    "    ##################    EMPIEZA ESPACIO PARA COMPLETAR CODIGO   #############################\n",
    "    ###########################################################################################\n",
    "\n",
    "    # clf_svm = \n",
    "\n",
    "    \n",
    "    # vectores_soporte = \n",
    "\n",
    "    \n",
    "    ###########################################################################################\n",
    "    ##################    TERMINA ESPACIO PARA COMPLETAR CODIGO   #############################\n",
    "    ###########################################################################################\n",
    "    \n",
    "    return clf_svm, vectores_soporte"
   ]
  },
  {
   "cell_type": "code",
   "execution_count": null,
   "metadata": {},
   "outputs": [],
   "source": [
    "def plot_svc_decision_function(model, ax=None):\n",
    "    \"\"\"Plot the decision function for a 2D SVC\"\"\"\n",
    "    if ax is None:\n",
    "        ax = plt.gca()\n",
    "    xlim = ax.get_xlim()\n",
    "    ylim = ax.get_ylim()\n",
    "    \n",
    "    # create grid to evaluate model\n",
    "    x = np.linspace(xlim[0], xlim[1], 30)\n",
    "    y = np.linspace(ylim[0], ylim[1], 30)\n",
    "    Y, X = np.meshgrid(y, x)\n",
    "    xy = np.vstack([X.ravel(), Y.ravel()]).T\n",
    "    P = model.decision_function(xy).reshape(X.shape)\n",
    "    \n",
    "    # plot decision boundary and margins\n",
    "    ax.contour(X, Y, P, colors='k',\n",
    "               levels=[-1, 0, 1], alpha=0.5,\n",
    "               linestyles=['--', '-', '--'])\n",
    "            \n",
    "    ax.set_xlim(xlim)\n",
    "    ax.set_ylim(ylim)"
   ]
  },
  {
   "cell_type": "code",
   "execution_count": null,
   "metadata": {},
   "outputs": [],
   "source": [
    "clf_svm, vectores_soporte = svm_model(X, y)\n",
    "plt.scatter(X[:, 0], X[:, 1], c=y, s=50, cmap='coolwarm')\n",
    "plot_svc_decision_function(clf_svm);\n",
    "plt.scatter(vectores_soporte[:, 0], vectores_soporte[:, 1],\n",
    "            s=300, linewidth=1, color='#AAAAAA', alpha=0.4);"
   ]
  },
  {
   "cell_type": "markdown",
   "metadata": {},
   "source": [
    "### Ejercicio 3 - parte c)  "
   ]
  },
  {
   "cell_type": "markdown",
   "metadata": {},
   "source": [
    "Ejecute el siguiente código y compare las soluciones obtenidas para 60 y 120 puntos. Explique a qué se debe el comportamiento observado."
   ]
  },
  {
   "cell_type": "code",
   "execution_count": null,
   "metadata": {},
   "outputs": [],
   "source": [
    "def plot_svm(N=10, ax=None):\n",
    "    X, y = make_blobs(n_samples=200, centers=2,\n",
    "                      random_state=0, cluster_std=0.60)\n",
    "    X = X[:N]\n",
    "    y = y[:N]\n",
    "    \n",
    "    clf_svm, vectores_soporte = svm_model(X, y)\n",
    "        \n",
    "    ax = ax or plt.gca()\n",
    "    ax.scatter(X[:, 0], X[:, 1], c=y, s=50, cmap='coolwarm')\n",
    "    ax.set_xlim(-1, 4)\n",
    "    ax.set_ylim(-1, 6)\n",
    "    plot_svc_decision_function(clf_svm, ax)\n",
    "    ax.scatter(vectores_soporte[:, 0], vectores_soporte[:, 1],\n",
    "                s=300, linewidth=1, color='#AAAAAA', alpha=0.4);\n",
    "\n",
    "fig, ax = plt.subplots(1, 2, figsize=(16, 6))\n",
    "fig.subplots_adjust(left=0.0625, right=0.95, wspace=0.1)\n",
    "for axi, N in zip(ax, [60, 120]):\n",
    "    plot_svm(N, axi)\n",
    "    axi.set_title('N = {0}'.format(N))"
   ]
  },
  {
   "cell_type": "markdown",
   "metadata": {},
   "source": [
    "**Respuesta:**\n",
    "\n",
    "..."
   ]
  },
  {
   "cell_type": "markdown",
   "metadata": {},
   "source": [
    "### Ejercicio 3 - parte d)  "
   ]
  },
  {
   "cell_type": "markdown",
   "metadata": {},
   "source": [
    "Ejecute el siguiente código y compare las soluciones obtenidas para `C=10` y `C=0.1`. Explique a qué se debe el comportamiento observado."
   ]
  },
  {
   "cell_type": "code",
   "execution_count": null,
   "metadata": {
    "scrolled": true
   },
   "outputs": [],
   "source": [
    "X, y = make_blobs(n_samples=100, centers=2,\n",
    "                  random_state=0, cluster_std=0.8)\n",
    "\n",
    "fig, ax = plt.subplots(1, 2, figsize=(16, 6))\n",
    "fig.subplots_adjust(left=0.0625, right=0.95, wspace=0.1)\n",
    "\n",
    "for axi, C in zip(ax, [10.0, 0.1]):\n",
    "    clf_svm, vectores_soporte = svm_model(X, y, C=C)\n",
    "    axi.scatter(X[:, 0], X[:, 1], c=y, s=50, cmap='coolwarm')\n",
    "    plot_svc_decision_function(clf_svm, axi)\n",
    "    axi.scatter(vectores_soporte[:, 0], vectores_soporte[:, 1],\n",
    "                s=300, linewidth=1, color='#AAAAAA', alpha=0.4);\n",
    "    axi.set_title('C = {0:.1f}'.format(C), size=14)"
   ]
  },
  {
   "cell_type": "markdown",
   "metadata": {},
   "source": [
    "**Respuesta:**\n",
    "\n",
    "...\n"
   ]
  },
  {
   "cell_type": "markdown",
   "metadata": {},
   "source": [
    "### Ejercicio 3 - parte e)  "
   ]
  },
  {
   "cell_type": "markdown",
   "metadata": {},
   "source": [
    "Ejecute el siguiente código y compare las soluciones obtenidas para kernel `linear` y `rbf`. Explique a qué se debe el comportamiento observado."
   ]
  },
  {
   "cell_type": "code",
   "execution_count": null,
   "metadata": {
    "scrolled": true
   },
   "outputs": [],
   "source": [
    "X, y = make_circles(100, factor=.1, noise=.1)\n",
    "\n",
    "fig, ax = plt.subplots(1, 2, figsize=(16, 6))\n",
    "fig.subplots_adjust(left=0.0625, right=0.95, wspace=0.1)\n",
    "\n",
    "for axi, kern in zip(ax, ['linear', 'rbf']):\n",
    "    clf_svm, vectores_soporte = svm_model(X, y, kernel=kern, C=1E6)\n",
    "    axi.scatter(X[:, 0], X[:, 1], c=y, s=50, cmap='coolwarm')\n",
    "    plot_svc_decision_function(clf_svm, axi)\n",
    "    axi.scatter(vectores_soporte[:, 0], vectores_soporte[:, 1],\n",
    "                s=300, linewidth=1, color='#AAAAAA', alpha=0.4);\n",
    "    axi.set_title('kernel = {}'.format(kern), size=14)"
   ]
  },
  {
   "cell_type": "markdown",
   "metadata": {},
   "source": [
    "**Respuesta:**\n",
    "\n",
    "...\n"
   ]
  },
  {
   "cell_type": "markdown",
   "metadata": {},
   "source": [
    "### Ejercicio 3 - parte f)  "
   ]
  },
  {
   "cell_type": "markdown",
   "metadata": {},
   "source": [
    "A continuación abordaremos el problema de reconocimiento facial a partir de imágenes usando el conjunto de datos denominado [Labeled Faces in the Wild](http://vis-www.cs.umass.edu/lfw/). Consideraremos un subconjunto que contiene solo a las 8 personas que tienen al menos 60 imágenes en el conjunto de datos. \n",
    "\n",
    "A continuación se cargan los datos, se muestran los nombres de las personas, las dimensiones de las imágenes y algunos ejemplos."
   ]
  },
  {
   "cell_type": "code",
   "execution_count": null,
   "metadata": {},
   "outputs": [],
   "source": [
    "faces = pickle.load(open(\"faces.pkl\", \"rb\"))\n",
    "N, a, b = faces.images.shape\n",
    "print('Cantidad de imágenes: {0:d}'.format(N))\n",
    "print('Resolución de las imágenes: {:d}x{:d}'.format(a, b))\n",
    "print(faces.target_names)\n",
    "print(faces.images[1].shape)"
   ]
  },
  {
   "cell_type": "code",
   "execution_count": null,
   "metadata": {},
   "outputs": [],
   "source": [
    "fig, ax = plt.subplots(3, 5)\n",
    "for i, axi in enumerate(ax.flat):\n",
    "    axi.imshow(faces.images[i,:,::-1], cmap='gray')\n",
    "    axi.set(xticks=[], yticks=[],\n",
    "            xlabel=faces.target_names[faces.target[i]])"
   ]
  },
  {
   "cell_type": "markdown",
   "metadata": {},
   "source": [
    "Complete el siguiente código para dividir los datos en un conjunto de entrenamiento y otro de test usando la función `train_test_split` de sklearn. La cantidad de datos del conjunto de test debe ser **1/4** del total.\n",
    "\n",
    "**IMPORTANTE:** Preste atención a usar el parámetro `random_state` tal como está definido en la siguiente celda."
   ]
  },
  {
   "cell_type": "code",
   "execution_count": null,
   "metadata": {},
   "outputs": [],
   "source": [
    "random_state = 42\n",
    "\n",
    "X = faces.data\n",
    "y = faces.target\n",
    "\n",
    "###########################################################################################\n",
    "##################    EMPIEZA ESPACIO PARA COMPLETAR CODIGO   #############################\n",
    "###########################################################################################\n",
    "\n",
    "# X_train, X_test, y_train, y_test = \n",
    "\n",
    "\n",
    "###########################################################################################\n",
    "##################    TERMINA ESPACIO PARA COMPLETAR CODIGO   #############################\n",
    "###########################################################################################"
   ]
  },
  {
   "cell_type": "markdown",
   "metadata": {},
   "source": [
    "### Ejercicio 3 - parte g)  "
   ]
  },
  {
   "cell_type": "markdown",
   "metadata": {},
   "source": [
    "Cada imagen tiene casi 3000 puntos (62 × 47). Si bien se podrían usar estos puntos como características de entrada, a menudo es más efectivo usar algún tipo de preprocesado para extraer características más significativas. En este caso usaremos un **análisis de componentes principales (PCA)** para extraer 150 componentes y con ellos alimentar a un clasificador de máquina de vectores de soporte.\n",
    "\n",
    "Estudie las funciones `fit` y `transform` de `PCA` y explique en sus palabras qué es lo que hace un análisis de componentes principales (PCA) y de qué se encargan cada una de esas funciones."
   ]
  },
  {
   "cell_type": "markdown",
   "metadata": {},
   "source": [
    "**Respuesta:**\n",
    "\n",
    "...\n"
   ]
  },
  {
   "cell_type": "markdown",
   "metadata": {},
   "source": [
    "### Ejercicio 3 - parte h)  "
   ]
  },
  {
   "cell_type": "markdown",
   "metadata": {},
   "source": [
    "Complete el código a continuación para extraer los primeros 150 componentes principales del conjunto de entrenamiento y del conjunto de test.\n",
    "\n",
    "**IMPORTANTE:** Preste atención a usar el parámetro `whiten` de pre-procesamiento de datos tal como está definido en la siguiente celda."
   ]
  },
  {
   "cell_type": "code",
   "execution_count": null,
   "metadata": {},
   "outputs": [],
   "source": [
    "n_components = 150\n",
    "whiten = True\n",
    "\n",
    "###########################################################################################\n",
    "##################    EMPIEZA ESPACIO PARA COMPLETAR CODIGO   #############################\n",
    "###########################################################################################\n",
    "\n",
    "# instancia de pca\n",
    "# pca = \n",
    "\n",
    "\n",
    "# X_train_pca = \n",
    "# X_test_pca = \n",
    "\n",
    "\n",
    "###########################################################################################\n",
    "##################    TERMINA ESPACIO PARA COMPLETAR CODIGO   #############################\n",
    "###########################################################################################"
   ]
  },
  {
   "cell_type": "markdown",
   "metadata": {},
   "source": [
    "### Ejercicio 3 - parte i)  "
   ]
  },
  {
   "cell_type": "markdown",
   "metadata": {},
   "source": [
    "A continuación se implementa una búsqueda de los parámetros óptimos del clasificador usando validación cruzada. Para ello, complete el código usando `GridSearchCV` y ajuste un clasificafor SVM (con `kernel='rbf'`) con los valores óptimos de los parámetros dentro de la grilla definida. "
   ]
  },
  {
   "cell_type": "code",
   "execution_count": null,
   "metadata": {},
   "outputs": [],
   "source": [
    "C_grid = [1e-1, 1e0, 1e1, 1e2, 1e3, 1e4]\n",
    "gamma_grid = [0.0001, 0.0005, 0.001, 0.005, 0.01, 0.1]\n",
    "\n",
    "###########################################################################################\n",
    "##################    EMPIEZA ESPACIO PARA COMPLETAR CODIGO   #############################\n",
    "###########################################################################################\n",
    "\n",
    "# diccionario con la grilla de parámetros\n",
    "# param_grid = \n",
    "\n",
    "\n",
    "# SVM\n",
    "# clf_svm = \n",
    "\n",
    "\n",
    "# instancia de GridSearchCV\n",
    "# grid_CV = \n",
    "\n",
    "\n",
    "# mejor modelo ajustado\n",
    "# clf_best = \n",
    "\n",
    "\n",
    "###########################################################################################\n",
    "##################    TERMINA ESPACIO PARA COMPLETAR CODIGO   #############################\n",
    "###########################################################################################\n",
    "\n",
    "print(\"Mejor modelo encontrado por búsqueda en la grilla usando CV:\")\n",
    "print(clf_best)"
   ]
  },
  {
   "cell_type": "markdown",
   "metadata": {},
   "source": [
    "### Ejercicio 3 - parte j)  "
   ]
  },
  {
   "cell_type": "markdown",
   "metadata": {},
   "source": [
    "Usando el mejor modelo obtenido en la parte anterior estime las etiquetas para el conjunto de test y calcule el error de clasificación."
   ]
  },
  {
   "cell_type": "code",
   "execution_count": null,
   "metadata": {},
   "outputs": [],
   "source": [
    "###########################################################################################\n",
    "##################    EMPIEZA ESPACIO PARA COMPLETAR CODIGO   #############################\n",
    "###########################################################################################\n",
    "\n",
    "# etiquetas estimadas para el conjunto de test\n",
    "# y_test_est = \n",
    "\n",
    "\n",
    "# error de test con el mejor modelo\n",
    "# error_test = \n",
    "\n",
    "\n",
    "###########################################################################################\n",
    "##################    TERMINA ESPACIO PARA COMPLETAR CODIGO   #############################\n",
    "###########################################################################################\n",
    "print('El mejor modelo obtenido tiene un error de test de: %f' % error_test)"
   ]
  },
  {
   "cell_type": "markdown",
   "metadata": {},
   "source": [
    "A continuación se muestran algunos ejemplos del conjunto de test con su predicción (errores en rojo)."
   ]
  },
  {
   "cell_type": "code",
   "execution_count": null,
   "metadata": {},
   "outputs": [],
   "source": [
    "fig, ax = plt.subplots(4, 6)\n",
    "for i, axi in enumerate(ax.flat):\n",
    "    axi.imshow(X_test[i].reshape(62, 47), cmap='gray')\n",
    "    axi.set(xticks=[], yticks=[])\n",
    "    axi.set_ylabel(faces.target_names[y_test_est[i]].split()[-1],\n",
    "                   color='black' if y_test_est[i] == y_test[i] else 'red')\n",
    "fig.suptitle('Predicciones (errores en rojo)', size=14);"
   ]
  },
  {
   "cell_type": "markdown",
   "metadata": {},
   "source": [
    "### Ejercicio 3 - parte k)  "
   ]
  },
  {
   "cell_type": "markdown",
   "metadata": {},
   "source": [
    "Para analizar los resultados con mayor detalle se propone utilizar una matriz de confusión. Para ello, ejecute el siguiente código e inspeccione la matriz de confusión resultante. Explique para qué sirve una matriz de confusión. Comente sobre el tipo de errores que ocurren y las diferencias de desempeño según la persona. Indique a qué pueden deberse las diferencias de desempeño para distintas personas."
   ]
  },
  {
   "cell_type": "code",
   "execution_count": null,
   "metadata": {},
   "outputs": [],
   "source": [
    "def plot_confusion_matrix(cm, classes,\n",
    "                          normalize=False,\n",
    "                          title='Confusion matrix',\n",
    "                          cmap=plt.cm.Blues):\n",
    "    \"\"\"\n",
    "    This function prints and plots the confusion matrix.\n",
    "    Normalization can be applied by setting `normalize=True`.\n",
    "    \"\"\"\n",
    "    plt.imshow(cm, interpolation='nearest', cmap=cmap)\n",
    "    plt.title(title)\n",
    "    plt.colorbar()\n",
    "    tick_marks = np.arange(len(classes))\n",
    "    plt.xticks(tick_marks, classes, rotation=90)\n",
    "    plt.yticks(tick_marks, classes)\n",
    "\n",
    "    if normalize:\n",
    "        cm = cm.astype('float') / cm.sum(axis=1)[:, np.newaxis]\n",
    "        print(\"Normalized confusion matrix\")\n",
    "    else:\n",
    "        print('Confusion matrix, without normalization')\n",
    "\n",
    "    # print(cm)\n",
    "\n",
    "    thresh = cm.max() / 2.\n",
    "    for i, j in itertools.product(range(cm.shape[0]), range(cm.shape[1])):\n",
    "        plt.text(j, i, cm[i, j],\n",
    "                 horizontalalignment=\"center\",\n",
    "                 color=\"white\" if cm[i, j] > thresh else \"black\")\n",
    "\n",
    "    plt.tight_layout()\n",
    "    plt.ylabel('True label')\n",
    "    plt.xlabel('Predicted label')"
   ]
  },
  {
   "cell_type": "code",
   "execution_count": null,
   "metadata": {},
   "outputs": [],
   "source": [
    "cnf_matrix = confusion_matrix(y_test, y_test_est)\n",
    "\n",
    "# Plot confusion matrix\n",
    "plt.figure()\n",
    "plot_confusion_matrix(cnf_matrix, classes=faces.target_names,\n",
    "                      title='Confusion matrix')"
   ]
  },
  {
   "cell_type": "markdown",
   "metadata": {},
   "source": [
    "**Respuesta:**\n",
    "\n",
    "...\n"
   ]
  }
 ],
 "metadata": {
  "kernelspec": {
   "display_name": "Python 3 (ipykernel)",
   "language": "python",
   "name": "python3"
  },
  "language_info": {
   "codemirror_mode": {
    "name": "ipython",
    "version": 3
   },
   "file_extension": ".py",
   "mimetype": "text/x-python",
   "name": "python",
   "nbconvert_exporter": "python",
   "pygments_lexer": "ipython3",
   "version": "3.8.10"
  }
 },
 "nbformat": 4,
 "nbformat_minor": 4
}
