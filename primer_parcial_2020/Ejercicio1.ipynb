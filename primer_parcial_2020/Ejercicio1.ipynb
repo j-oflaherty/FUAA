{
 "cells": [
  {
   "cell_type": "markdown",
   "metadata": {},
   "source": [
    "# <center> FUNDAMENTOS DE APRENDIZAJE AUTOMÁTICO <br> Y RECONOCIMIENTO DE PATRONES</center>\n",
    "## <center> 1er parcial, 2020</center>           \n",
    "\n",
    "La duración del parcial es de 3 horas. El parcial consta de 3 ejercicios, cuya suma total es de 100 puntos. El parcial es sin material y no está permitido acceder a Internet. Ante cualquier duda comuníquese con los docentes. \n",
    "\n",
    "Este notebook corresponde al ejercicio 1. Hay un notebook por ejercicio planteado.\n",
    "\n",
    "* [Ejercicio 1 - Desigualdad VC](#Ejercicio1) (20 puntos)"
   ]
  },
  {
   "cell_type": "markdown",
   "metadata": {},
   "source": [
    "# Ejercicio 1"
   ]
  },
  {
   "cell_type": "markdown",
   "metadata": {},
   "source": [
    "Considere el conjunto de hipótesis $\\mathcal{H}$ dado por los perceptrones en $\\mathbb{R}^d$."
   ]
  },
  {
   "cell_type": "markdown",
   "metadata": {},
   "source": [
    "### Ejercicio 1 - parte a)  "
   ]
  },
  {
   "cell_type": "markdown",
   "metadata": {},
   "source": [
    "Calcule el valor de la función de crecimiento $\\mathcal{H}$ de este conjunto de hipótesis con $d=2$ para $N=3$ y $N=4$. \n",
    "\n",
    "![Ayuda visual](imgs/puntos_en_el_plano.png)"
   ]
  },
  {
   "cell_type": "markdown",
   "metadata": {},
   "source": [
    "**Respuesta:**  \n",
    "$\\mathcal{H}$\n",
    "\n",
    "Sabemos que:\n",
    "\n",
    "$$ m_\\mathcal{H}(N) = \\max_{\\mathcal{D}} \\{ |\\mathcal{H}(D)| \\} $$\n",
    "\n",
    "donde D es el conjunto de datos. \n",
    "\n",
    "\n",
    "i) N=3\n",
    "\n",
    "Se calculan contando las dicotomías de la imagen de la izquierda.\n",
    "$$ m_\\mathcal{H}(3) = 8 = 2^3 $$\n",
    "\n",
    "Coincide con el resultado que $d_{vc}^{perceptron} = d+1 = 3$\n",
    "\n",
    "ii) N=4\n",
    "\n",
    "Se cuentan las dicotomías de la imagen a la derecha.\n",
    "\n",
    "1. Separo un punto del resto: 8\n",
    "2. Separo en 2: 4\n",
    "3. Todos en la misma clase: 2\n",
    "\n",
    "Entonces $m_\\mathcal{H}(4)=14 < 2^4$"
   ]
  },
  {
   "cell_type": "markdown",
   "metadata": {},
   "source": [
    "### Ejercicio 1 - parte b)  "
   ]
  },
  {
   "cell_type": "markdown",
   "metadata": {},
   "source": [
    "Indique el valor del menor punto de quiebre $k$ y de la dimensión de Vapnik-Chervonenkis $d_{\\textrm{VC}}$ para el conjunto de hipótesis $\\mathcal{H}$ de los perceptrones en $\\mathbb{R}^d$."
   ]
  },
  {
   "cell_type": "markdown",
   "metadata": {},
   "source": [
    "**Respuesta:**   \n",
    "\n",
    "$ d_{vc} = d+1 $\n",
    "\n",
    "$ k = d+2 $"
   ]
  },
  {
   "cell_type": "markdown",
   "metadata": {},
   "source": [
    "### Ejercicio 1 - parte c)  "
   ]
  },
  {
   "cell_type": "markdown",
   "metadata": {},
   "source": [
    "Escriba la cota polinómica para la función de crecimiento $m_{\\mathcal{H}}(N)$ de los perceptrones en $\\mathbb{R}^d$ explícitamente en función de $d$"
   ]
  },
  {
   "cell_type": "markdown",
   "metadata": {},
   "source": [
    "**Respuesta:**   \n",
    "\n",
    "$$ m_\\mathcal{H}(N) \\leq \\sum_{n=0}^{d+1} \\binom{N}{n} $$"
   ]
  },
  {
   "cell_type": "markdown",
   "metadata": {},
   "source": [
    "### Ejercicio 1 - parte d)  "
   ]
  },
  {
   "cell_type": "markdown",
   "metadata": {},
   "source": [
    "Considere la desigualdad de Vapnik-Chervonenkis \n",
    "\n",
    "$$\n",
    "P[|E_{\\textrm{in}}(g) - E_{\\textrm{out}}(g)| > \\epsilon]  \\leq 4 m_{\\mathcal{H}}(2N) e^{-\\frac{1}{8} \\epsilon^2 N} \\quad \\quad \\epsilon > 0\n",
    "$$     \n",
    "\n",
    "Dado un nivel de tolerancia $\\delta =  m_{\\mathcal{H}}(2N) e^{-\\frac{1}{8} \\epsilon^2 N} > 0$, escriba una cota para el error de generalización que se cumpla con probabilidad $1-\\delta$, explícitamente en función de $N$, $m_\\mathcal{H}$ y $\\delta$."
   ]
  },
  {
   "cell_type": "markdown",
   "metadata": {},
   "source": [
    "**Respuesta:**   \n",
    "\n",
    "Despejo epsilon en función de $\\delta$\n",
    "\n",
    "$$\\epsilon = \\sqrt{\\frac{8}{N} \\log\\left(\\frac{4 m_\\mathcal{H}(2N)}{\\delta}\\right)}$$\n",
    "\n",
    "Por otro lado, \n",
    "$$ P[|E_{\\textrm{in}}(g) - E_{\\textrm{out}}(g)| < \\epsilon] = 1 - P[|E_{\\textrm{in}}(g) - E_{\\textrm{out}}(g)| > \\epsilon] \\geq 1-\\delta $$\n",
    "\n",
    "Por lo tanto,\n",
    "\n",
    "$$ E_{\\textrm{out}}(g) \\leq E_{\\textrm{in}}(g) + \\epsilon = E_{\\textrm{in}}(g) + \\sqrt{\\frac{8}{N} \\log\\left(\\frac{4 m_\\mathcal{H}(2N)}{\\delta}\\right)} = E_{\\textrm{in}}(g) + \\Omega(\\mathcal{H}, N, \\delta) $$"
   ]
  },
  {
   "cell_type": "markdown",
   "metadata": {},
   "source": [
    "### Ejercicio 1 - parte e)  "
   ]
  },
  {
   "cell_type": "markdown",
   "metadata": {},
   "source": [
    "A partir de la cota del error de generalización de la parte anterior, derive una expresión que permita obtener el valor mínimo del tamaño de muestra $N$ suficiente para asegurar un error de generalización de a lo sumo $\\epsilon$, explícitamente en función de  $\\epsilon$, $m_\\mathcal{H}$ y $\\delta$. Reescriba la expresión sustituyendo $m_\\mathcal{H}$ por el monomio de mayor orden de la cota polinómica, expresado en función de $d$."
   ]
  },
  {
   "cell_type": "markdown",
   "metadata": {},
   "source": [
    "**Respuesta:** \n",
    "\n",
    "$$ \\frac{\\epsilon^2}{8} N = \\log\\left(\\frac{4 m_\\mathcal{H}(2N)}{\\delta}\\right) $$\n",
    "\n",
    "Tomando N suficientemente grande, podemos aproximar $m_\\mathcal{H}(2N) \\approx \\frac{N^{d+1}}{(d+1)!}$\n",
    "\n",
    "Por lo tanto, podemos escribir la ecuación para N como:\n",
    "\n",
    "$$  N = \\frac{8}{\\epsilon^2} \\log\\left(\\frac{4 N^{d+1}}{(d+1)!\\delta}\\right) $$\n",
    "\n",
    "Esta expresión no tiene solución analítica. Una forma de solucionarla numéricamente es tomando un N arbitrariamente grande como valor inicial y tomando la recursión:\n",
    "\n",
    "$$ N_k = \\frac{8}{\\epsilon^2} \\log\\left(\\frac{4 N_{k-1}^{d+1}}{(d+1)!\\delta}\\right) $$\n",
    "\n",
    "Donde:\n",
    "\n",
    "$$ N = \\lim_{k\\rightarrow\\infty} N_k $$"
   ]
  },
  {
   "cell_type": "markdown",
   "metadata": {},
   "source": [
    "### Ejercicio 1 - parte f)  "
   ]
  },
  {
   "cell_type": "markdown",
   "metadata": {},
   "source": [
    "Suponga que para un perceptrón en $\\mathbb{R}^2$ se quiere un error de generalización de a lo sumo $\\epsilon = 0.1$ con un nivel de confianza del 90\\% ($\\delta=0.1$). Según la expresión anterior indique aproximadamente el tamaño mínimo de muestra $N$ que se necesita. ¿Qué valor sugeriría en la práctica? ¿Por qué?"
   ]
  },
  {
   "cell_type": "code",
   "execution_count": 2,
   "metadata": {},
   "outputs": [
    {
     "name": "stdout",
     "output_type": "stream",
     "text": [
      "Valor de N: 27734\n",
      "Iteraciones: 7\n"
     ]
    }
   ],
   "source": [
    "import math\n",
    "d = 2\n",
    "N = 10000# valor inicial de N\n",
    "N_1 = 0\n",
    "epsilon = 0.1\n",
    "delta = 0.1\n",
    "max_iter = 1000\n",
    "\n",
    "def factorial(n):\n",
    "    if n<=0:\n",
    "        return 1\n",
    "    else:\n",
    "        return n*factorial(n-1)\n",
    "    \n",
    "i = 0\n",
    "while (i < max_iter) and (abs(N-N_1) > 0.1):\n",
    "    N_1 = N\n",
    "    N = (8/(epsilon**2)) * math.log((4*((2*N_1)**(d+1)))/(factorial(d+1)*delta))\n",
    "    i += 1\n",
    "print(f\"Valor de N: {int(N)}\\nIteraciones: {i}\")"
   ]
  },
  {
   "cell_type": "markdown",
   "metadata": {},
   "source": [
    "**Respuesta:**   \n",
    "\n",
    "Iterando como se explico en la parte anterior, se recomiendo tomar un valor de $N\\geq27734$.\n",
    "\n"
   ]
  }
 ],
 "metadata": {
  "kernelspec": {
   "display_name": "Python 3 (ipykernel)",
   "language": "python",
   "name": "python3"
  },
  "language_info": {
   "codemirror_mode": {
    "name": "ipython",
    "version": 3
   },
   "file_extension": ".py",
   "mimetype": "text/x-python",
   "name": "python",
   "nbconvert_exporter": "python",
   "pygments_lexer": "ipython3",
   "version": "3.8.10"
  }
 },
 "nbformat": 4,
 "nbformat_minor": 4
}
