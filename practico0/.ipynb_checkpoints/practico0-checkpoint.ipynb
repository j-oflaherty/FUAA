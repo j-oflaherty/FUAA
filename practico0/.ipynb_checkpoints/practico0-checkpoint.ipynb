{
 "cells": [
  {
   "cell_type": "markdown",
   "metadata": {},
   "source": [
    "# Fundamentos de Aprendizaje Automático y Reconocimiento de Patrones\n",
    "***\n",
    "# Práctico 0"
   ]
  },
  {
   "cell_type": "code",
   "execution_count": 1,
   "metadata": {},
   "outputs": [],
   "source": [
    "# Se importa la biblioteca numpy\n",
    "import numpy as np"
   ]
  },
  {
   "cell_type": "markdown",
   "metadata": {},
   "source": [
    "## Objetivos\n",
    "\n",
    "Es un objetivo del plantel docente que los estudiantes adquieran ciertas habilidades de programación que le permitan implementar algoritmos de *aprendizaje automático*.  Este práctico busca brindarle al estudiante una serie de ejercicios de programación que le permitan:\n",
    "\n",
    "- enfrentarse rápidamente a algunas tareas de programación típicas del curso\n",
    "- evaluar si ya cuenta con los conocimientos necesarios para resolverlos \n",
    "- identificar qué aspectos de la programación en *python* (y su biblioteca asociada *numpy*) son más relevantes para el curso.  \n",
    "\n",
    "### Observaciones\n",
    "\n",
    "Los ejercicios aquí propuestos surgen a partir de la identificación de algunas de las dificultades más comunes  que enfrentaron los estudiantes de la edición anterior del curso. No se espera que todos los estudiantes sean capaces de resolver los ejercicios en la primera semana del curso. Somos conscientes que en muchos casos éste será el primer contacto con las herramientas de programación del curso. Sin embargo, consideramos **necesario** que puedan resolver este tipo de tareas  **antes** de la instancia del **primer parcial**.     \n",
    "\n",
    "**Nota 1:** Para aquellos que no están familiarizados con Python/numpy se **recomienda fuertemente** la lectura del siguiente tutorial antes de realizar estos ejercicios.\n",
    "\n",
    "- [Python-Numpy tutorial](https://cs231n.github.io/python-numpy-tutorial/): Introducción rápida al lenguaje de programación Python, y al uso de Python para computación científica.\n",
    "\n",
    "\n",
    "\n",
    "**Nota 2:** Los parciales y los prácticos se harán en Jupyter Notebook. Pueden encontrar una [guía de instalación](https://eva.fing.edu.uy/mod/page/view.php?id=90800) del ambiente de trabajo (miniconda) en el eva del curso. \n",
    "\n",
    "*** \n",
    "\n",
    "## Lista de ejercicios\n",
    "\n",
    "[Ejercicio 1](#Ejercicio1): Indices en arreglos 1d y 2d    \n",
    "[Ejercicio 2](#Ejercicio2): Comparación de arreglos  \n",
    "[Ejercicio 3](#Ejercicio3): No es copia   \n",
    "[Ejercicio 4](#Ejercicio4): Atentos al broadcasting   \n",
    "[Ejercicio 5](#Ejercicio5): Sin loops por favor"
   ]
  },
  {
   "cell_type": "markdown",
   "metadata": {},
   "source": [
    "<a id=\"Ejercicio1\"></a>\n",
    "### Ejercicio 1 \n",
    "\n",
    "**Parte a)** \n",
    "\n",
    "Modificar la siguiente celda de forma que al ejecutarla, la salida sea la siguiente: \n",
    "\n",
    "```\n",
    "---------------------------------------\n",
    "[0 1 2 3 4 5 6 7 8 9]\n",
    "[2 3 4]\n",
    "[1 3 5]\n",
    "[9 8 7 6]\n",
    "[9 8 7 6 5 4 3 2 1 0]\n",
    "---------------------------------------\n",
    "```"
   ]
  },
  {
   "cell_type": "code",
   "execution_count": 3,
   "metadata": {},
   "outputs": [
    {
     "name": "stdout",
     "output_type": "stream",
     "text": [
      "---------------------------------------\n",
      "[0 1 2 3 4 5 6 7 8 9]\n",
      "[2 3 4]\n",
      "[1 3 5]\n",
      "[9 8 7 6]\n",
      "[9 8 7 6 5 4 3 2 1 0]\n",
      "---------------------------------------\n"
     ]
    }
   ],
   "source": [
    "print('---------------------------------------')\n",
    "\n",
    "x = np.arange(10)\n",
    "print(x)\n",
    "\n",
    "y = x[2:5] #corregir\n",
    "print(y)\n",
    "\n",
    "y = x[1:6:2] #corregir\n",
    "print(y)\n",
    "\n",
    "y = x[-1:5:-1] #corregir\n",
    "print(y)\n",
    "\n",
    "y = x[-1::-1] #corregir\n",
    "print(y)\n",
    "\n",
    "print('---------------------------------------')"
   ]
  },
  {
   "cell_type": "markdown",
   "metadata": {},
   "source": [
    "**Parte b)** Manipulación de arreglos"
   ]
  },
  {
   "cell_type": "markdown",
   "metadata": {},
   "source": [
    "Modificar la siguiente celda de forma que al ejecutarla, la salida sea la siguiente: \n",
    "\n",
    "```\n",
    "---------------------------------------\n",
    "[[1 2 3]  \n",
    " [4 5 6]]  \n",
    "[2 5]  \n",
    "[[3 2 1]  \n",
    " [6 5 4]]  \n",
    "---------------------------------------\n",
    "```"
   ]
  },
  {
   "cell_type": "code",
   "execution_count": 8,
   "metadata": {},
   "outputs": [
    {
     "name": "stdout",
     "output_type": "stream",
     "text": [
      "---------------------------------------\n",
      "[[1 2 3]\n",
      " [4 5 6]]\n",
      "[2 5]\n",
      "[[3 2 1]\n",
      " [6 5 4]]\n",
      "---------------------------------------\n"
     ]
    }
   ],
   "source": [
    "print('---------------------------------------')\n",
    "\n",
    "b = np.array([[1,2,3],[4,5,6]])\n",
    "print(b)\n",
    "\n",
    "y = b[:,1] #corregir\n",
    "print(y)\n",
    "\n",
    "y = b[:, -1::-1]  #corregir\n",
    "print(y)\n",
    "\n",
    "print('---------------------------------------')"
   ]
  },
  {
   "cell_type": "markdown",
   "metadata": {},
   "source": [
    "**Parte c)** Completar el código de la función `generar_marco_2d()`. "
   ]
  },
  {
   "cell_type": "code",
   "execution_count": 13,
   "metadata": {},
   "outputs": [],
   "source": [
    "def generar_marco_2d(N, M):\n",
    "    '''\n",
    "    Genera un arreglo 2D de dimensiones (N,M). \n",
    "    Los elementos del arreglo valen 0 salvo en los bordes donde valen 1.\n",
    "\n",
    "    Sugerencia: no debería llevarle más de tres líneas\n",
    "\n",
    "    Entrada:\n",
    "    --------\n",
    "        N: número de filas del marco\n",
    "        M: número de columas del marco\n",
    "\n",
    "    Salida:\n",
    "    -------\n",
    "        marco: arreglo de tamaño (M,M)\n",
    "    '''\n",
    "    ##########################################\n",
    "    ### EMPIEZA ESPACIO PARA COMPLETAR CÓDIGO\n",
    "    ##########################################\n",
    "    \n",
    "    marco = np.ones((N,M))\n",
    "    marco[1:-1, 1:-1] = 0\n",
    "\n",
    "    ##########################################\n",
    "    ### TERMINA ESPACIO PARA COMPLETAR CÓDIGO\n",
    "    ##########################################\n",
    "    return marco"
   ]
  },
  {
   "cell_type": "markdown",
   "metadata": {},
   "source": [
    "La siguiente celda verifica que la implementación de la generación del marco sea correcta."
   ]
  },
  {
   "cell_type": "code",
   "execution_count": 15,
   "metadata": {},
   "outputs": [
    {
     "name": "stdout",
     "output_type": "stream",
     "text": [
      "Éxito!\n"
     ]
    }
   ],
   "source": [
    "from numpy.testing import assert_equal, assert_array_equal\n",
    "# se verifica el funcionamiento con algunas muestras\n",
    "assert_array_equal(generar_marco_2d(1, 1), [[1]])\n",
    "assert_array_equal(generar_marco_2d(2, 2), [[1, 1], [1, 1]])\n",
    "assert_array_equal(generar_marco_2d(3, 3), [[1, 1, 1], [1, 0, 1], [1, 1, 1]])\n",
    "assert_array_equal(generar_marco_2d(3, 4), [[1, 1, 1, 1], [1, 0, 0, 1], [1, 1, 1, 1]])\n",
    "\n",
    "# se verifica con algunos marcos generados aleatoriamente\n",
    "for i in range(10):\n",
    "    n, m = np.random.randint(2, 1000, 2)\n",
    "    result = generar_marco_2d(n, m)\n",
    "\n",
    "    # se verifica el tamaño\n",
    "    assert_equal(result.shape, (n, m))\n",
    "\n",
    "    # se verifican los bordes\n",
    "    assert (result[0] == 1).all()\n",
    "    assert (result[-1] == 1).all()\n",
    "    assert (result[:, 0] == 1).all()\n",
    "    assert (result[:, -1] == 1).all()\n",
    "\n",
    "    # Se verifica el interior\n",
    "    assert np.sum(result) == (2*n + 2*m - 4)\n",
    "\n",
    "print(\"Éxito!\")"
   ]
  },
  {
   "cell_type": "markdown",
   "metadata": {},
   "source": [
    "<a id=\"Ejercicio2\"></a>\n",
    "### Ejercicio 2"
   ]
  },
  {
   "cell_type": "markdown",
   "metadata": {},
   "source": [
    "La siguiente celda genera dos arreglos binarios de tamaño 10. Utilizando una línea de código, calcular la cantidad de elementos que tienen el mismo valor.  "
   ]
  },
  {
   "cell_type": "code",
   "execution_count": 18,
   "metadata": {},
   "outputs": [
    {
     "name": "stdout",
     "output_type": "stream",
     "text": [
      "[0 1 1 1 0 0 1 1 0 0]\n",
      "[1 0 0 0 1 1 1 1 0 0]\n",
      "4\n"
     ]
    }
   ],
   "source": [
    "a = np.random.randint(0,2,10)\n",
    "b = np.random.randint(0,2,10)\n",
    "print(a)\n",
    "print(b)\n",
    "\n",
    "numero_coincidencias = 10 - np.count_nonzero(a-b)\n",
    "print(numero_coincidencias)"
   ]
  },
  {
   "cell_type": "markdown",
   "metadata": {},
   "source": [
    "<a id=\"Ejercicio3\"></a>\n",
    "### Ejercicio 3\n",
    "**Parte a)**  Explicar la salida de la siguiente celda"
   ]
  },
  {
   "cell_type": "code",
   "execution_count": 19,
   "metadata": {},
   "outputs": [
    {
     "name": "stdout",
     "output_type": "stream",
     "text": [
      "[1 2 3]\n",
      "[-1  0 -3]\n"
     ]
    }
   ],
   "source": [
    "a=np.array([1,2,3])\n",
    "b=-a\n",
    "b[1]=0\n",
    "print(a)\n",
    "print(b)"
   ]
  },
  {
   "cell_type": "code",
   "execution_count": 21,
   "metadata": {},
   "outputs": [
    {
     "name": "stdout",
     "output_type": "stream",
     "text": [
      "[1 0 3]\n",
      "[1 0 3]\n"
     ]
    }
   ],
   "source": [
    "a=np.array([1,2,3])\n",
    "b=a\n",
    "b[1]=0\n",
    "print(a)\n",
    "print(b)"
   ]
  },
  {
   "cell_type": "markdown",
   "metadata": {},
   "source": [
    "**Parte b)**  ¿Qué sucede cuando la segunda línea se sustituye por $b=a$? ¿Cambia el comportamiento si se usa b=a.copy()?"
   ]
  },
  {
   "cell_type": "markdown",
   "metadata": {},
   "source": [
    "**Respuesta:** \n",
    "\n",
    "i) b actua como un puntero al array de a, por lo que si se modifica b se modifica a\n",
    "\n",
    "ii) Se copia un nuevo arreglo a partir del de a en b"
   ]
  },
  {
   "cell_type": "markdown",
   "metadata": {},
   "source": [
    "<a id=\"Ejercicio4\"></a>\n",
    "### Ejercicio 4"
   ]
  },
  {
   "cell_type": "markdown",
   "metadata": {},
   "source": [
    "Se considera el siguiente bloque de código"
   ]
  },
  {
   "cell_type": "code",
   "execution_count": 50,
   "metadata": {},
   "outputs": [
    {
     "name": "stdout",
     "output_type": "stream",
     "text": [
      "[1. 1. 1. 1.]\n",
      "[[0.44844392 0.98139034 0.84973487 0.52033738]\n",
      " [0.66487959 0.22687983 0.25144879 0.0215292 ]\n",
      " [0.55487383 0.16184714 0.24593643 0.65761831]\n",
      " [0.94899172 0.81343677 0.10209593 0.14127369]]\n"
     ]
    }
   ],
   "source": [
    "d=4\n",
    "unos  = np.ones(d)\n",
    "X = np.random.rand(d,d)\n",
    "print(unos)\n",
    "print(X)"
   ]
  },
  {
   "cell_type": "markdown",
   "metadata": {},
   "source": [
    "**Parte a)** Explicar qué es lo que hacen las líneas 2 y 3 de la celda"
   ]
  },
  {
   "cell_type": "markdown",
   "metadata": {},
   "source": [
    "**Respuesta:** \n",
    "\n",
    "2: un array de 1s de largo d\n",
    "\n",
    "3: una matriz de dxd con elementos random entre 0 y 1 "
   ]
  },
  {
   "cell_type": "markdown",
   "metadata": {},
   "source": [
    "**Parte b)**  Explicar la salida de la siguiente celda. En particular, observe que las dimensiones de $X$ y $unos$ no coinciden y sin embargo las operaciones no generan error."
   ]
  },
  {
   "cell_type": "markdown",
   "metadata": {},
   "source": [
    "**Respuesta:**\n",
    "\n",
    "Y1 es la matriz resultante de la suma del vector a cada de fila de la matriz\n",
    "\n",
    "Y2 es la matriz resultante de multiplicar 1 a 1 los elementos del vector y las filas de la matriz\n"
   ]
  },
  {
   "cell_type": "code",
   "execution_count": 51,
   "metadata": {},
   "outputs": [
    {
     "name": "stdout",
     "output_type": "stream",
     "text": [
      "[[1.44844392 1.98139034 1.84973487 1.52033738]\n",
      " [1.66487959 1.22687983 1.25144879 1.0215292 ]\n",
      " [1.55487383 1.16184714 1.24593643 1.65761831]\n",
      " [1.94899172 1.81343677 1.10209593 1.14127369]]\n",
      "[[0.44844392 0.98139034 0.84973487 0.52033738]\n",
      " [0.66487959 0.22687983 0.25144879 0.0215292 ]\n",
      " [0.55487383 0.16184714 0.24593643 0.65761831]\n",
      " [0.94899172 0.81343677 0.10209593 0.14127369]]\n"
     ]
    }
   ],
   "source": [
    "Y1 = X + unos\n",
    "Y2 = X*unos\n",
    "print(Y1)\n",
    "print(Y2)"
   ]
  },
  {
   "cell_type": "markdown",
   "metadata": {},
   "source": [
    "**Pate c)** Explique qué operación se realiza en la siguiente celda."
   ]
  },
  {
   "cell_type": "markdown",
   "metadata": {},
   "source": [
    "Se hace el producto interno entre el vector y las filas de la matriz. "
   ]
  },
  {
   "cell_type": "code",
   "execution_count": 59,
   "metadata": {},
   "outputs": [
    {
     "name": "stdout",
     "output_type": "stream",
     "text": [
      "[2.79990652 1.16473741 1.62027571 2.00579811]\n",
      "[2.79990652 1.16473741 1.62027571 2.00579811]\n"
     ]
    }
   ],
   "source": [
    "Z1 = np.dot(X, unos)\n",
    "Z2 = X @ unos\n",
    "print(Z1)\n",
    "print(Z2)"
   ]
  },
  {
   "cell_type": "markdown",
   "metadata": {},
   "source": [
    "**Parte d)** Se quiere construir una matriz X_ agregando una columna de unos antes de la primera columna de la matriz X. La siguiente celda da error. Proponga una forma de lograrlo utilizando la misma función de numpy `hstack`."
   ]
  },
  {
   "cell_type": "code",
   "execution_count": 65,
   "metadata": {},
   "outputs": [
    {
     "name": "stdout",
     "output_type": "stream",
     "text": [
      "[[1.         0.44844392 0.98139034 0.84973487 0.52033738]\n",
      " [1.         0.66487959 0.22687983 0.25144879 0.0215292 ]\n",
      " [1.         0.55487383 0.16184714 0.24593643 0.65761831]\n",
      " [1.         0.94899172 0.81343677 0.10209593 0.14127369]]\n"
     ]
    }
   ],
   "source": [
    "unos = np.ones((d,1))\n",
    "X_ = np.hstack((unos, X))\n",
    "print(X_)"
   ]
  },
  {
   "cell_type": "markdown",
   "metadata": {},
   "source": [
    "<a id=\"Ejercicio5\"></a>\n",
    "### Ejercicio 5"
   ]
  },
  {
   "cell_type": "markdown",
   "metadata": {},
   "source": [
    "Completar la función `distancia_euclidea()` que para dos vectores de entrada $\\mathbf{a}$ y $\\mathbf{b}$ de dimensión $d$ tiene como salida\n",
    "$$\n",
    "d(\\mathbf{a}, \\mathbf{b}) = \\sqrt{\\sum_{i=1}^d (a_i - b_i) ^ 2}\n",
    "$$\n",
    "\n",
    "La implementación se hará en una línea de código y deberá utilizar la función `np.sqrt()`. "
   ]
  },
  {
   "cell_type": "code",
   "execution_count": 73,
   "metadata": {},
   "outputs": [],
   "source": [
    "def distancia_euclidea(a, b):\n",
    "    '''\n",
    "    Calcula la distancia Euclídea entre los vectores a y b.\n",
    "    \n",
    "    Entrada\n",
    "    ----------\n",
    "    a, b : numpy arrays del mismo tamaño o escalares \n",
    "    \n",
    "    Salida\n",
    "    -------\n",
    "    dist: distancia Euclídea entre a y b\n",
    "    \n",
    "    '''\n",
    "    \n",
    "    ##########################################\n",
    "    ### EMPIEZA ESPACIO PARA COMPLETAR CÓDIGO\n",
    "    ##########################################\n",
    "   \n",
    "    dist = np.sqrt(np.sum(np.square(a-b)))\n",
    "\n",
    "    ##########################################\n",
    "    ### TERMINA ESPACIO PARA COMPLETAR CÓDIGO\n",
    "    ##########################################\n",
    "    \n",
    "    return dist"
   ]
  },
  {
   "cell_type": "markdown",
   "metadata": {},
   "source": [
    "Pueden correr la siguiente celda para verificar si su implementación es correcta."
   ]
  },
  {
   "cell_type": "code",
   "execution_count": 74,
   "metadata": {},
   "outputs": [
    {
     "name": "stdout",
     "output_type": "stream",
     "text": [
      "Éxito!\n"
     ]
    }
   ],
   "source": [
    "from numpy.testing import assert_equal, assert_raises\n",
    "\n",
    "# verifica el cálculo de la distancia para arreglos de tamaño 3\n",
    "a = np.array([1, 2, 3])\n",
    "b = np.array([4, 5, 6])\n",
    "assert_equal(distancia_euclidea(a, b), 5.196152422706632)\n",
    "\n",
    "# verifica el cálculo de la distancia para arreglos de tamaño 4\n",
    "x = np.array([3.6, 7., 203., 3.])\n",
    "y = np.array([6., 20.2, 1., 2.])\n",
    "assert_equal(distancia_euclidea(x, y), 202.44752406487959)\n",
    "\n",
    "# verifica el cálculo en el caso de escalares\n",
    "assert_equal(distancia_euclidea(1, 0.5), 0.5)\n",
    "\n",
    "# verifica que haya error en el caso que los arreglos tengan distinto tamanho\n",
    "a = np.array([1, 2, 3])\n",
    "b = np.array([4, 5])\n",
    "assert_raises(ValueError, distancia_euclidea, a, b)\n",
    "assert_raises(ValueError, distancia_euclidea, b, a)\n",
    "\n",
    "print(\"Éxito!\")"
   ]
  },
  {
   "cell_type": "code",
   "execution_count": null,
   "metadata": {},
   "outputs": [],
   "source": []
  }
 ],
 "metadata": {
  "kernelspec": {
   "display_name": "Python 3 (ipykernel)",
   "language": "python",
   "name": "python3"
  },
  "language_info": {
   "codemirror_mode": {
    "name": "ipython",
    "version": 3
   },
   "file_extension": ".py",
   "mimetype": "text/x-python",
   "name": "python",
   "nbconvert_exporter": "python",
   "pygments_lexer": "ipython3",
   "version": "3.8.10"
  }
 },
 "nbformat": 4,
 "nbformat_minor": 2
}
