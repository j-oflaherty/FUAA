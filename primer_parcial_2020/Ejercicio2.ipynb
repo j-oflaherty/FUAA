{
 "cells": [
  {
   "cell_type": "markdown",
   "metadata": {},
   "source": [
    "# <center> FUNDAMENTOS DE APRENDIZAJE AUTOMÁTICO <br> Y RECONOCIMIENTO DE PATRONES</center>\n",
    "## <center> 1er parcial, 2020</center>           \n",
    "\n",
    "La duración del parcial es de 3 horas. El parcial consta de 3 ejercicios, cuya suma total es de 100 puntos. El parcial es sin material y no está permitido acceder a Internet. Ante cualquier duda comuníquese con los docentes. \n",
    "\n",
    "Este notebook corresponde al ejercicio 2. Hay un notebook por ejercicio planteado.\n",
    "\n",
    "* [Ejercicio 2 - Regresión polinómica y Curvas de Aprendizaje](#Ejercicio2) (40 puntos)"
   ]
  },
  {
   "cell_type": "code",
   "execution_count": 1,
   "metadata": {},
   "outputs": [],
   "source": [
    "import numpy as np\n",
    "from matplotlib import pyplot as plt\n",
    "from sklearn import model_selection"
   ]
  },
  {
   "cell_type": "markdown",
   "metadata": {},
   "source": [
    "# Ejercicio 2"
   ]
  },
  {
   "cell_type": "markdown",
   "metadata": {},
   "source": [
    "En este ejercicio se analizará el compromiso *sesgo-varianza* en el caso en que se desea encontrar el polinomio de orden $n$ que mejor aproxima la relación entre la variable medida $x$ y la salida $y$, siendo $x$ e $y$ escalares. La siguiente celda levanta los datos que se utilizarán en este ejercicio.  "
   ]
  },
  {
   "cell_type": "code",
   "execution_count": 2,
   "metadata": {},
   "outputs": [
    {
     "data": {
      "image/png": "[encoded data removed]",
      "text/plain": [
       "<Figure size 432x288 with 1 Axes>"
      ]
     },
     "metadata": {
      "needs_background": "light"
     },
     "output_type": "display_data"
    }
   ],
   "source": [
    "# se levantan los datos\n",
    "filePath = \"data/ejercicio1/polydata.dat\"\n",
    "file = open(filePath,'r')\n",
    "allData = np.loadtxt(file, delimiter=',')\n",
    "\n",
    "X = allData[:, [0]]\n",
    "y = allData[:, [1]]\n",
    "\n",
    "# plot curve\n",
    "plt.figure()\n",
    "plt.plot(X, y, 'rx')\n",
    "plt.title('Puntos a utilizar en el Ejercicio 1')\n",
    "plt.xlabel('X')\n",
    "plt.ylabel('Y')\n",
    "plt.show()"
   ]
  },
  {
   "cell_type": "markdown",
   "metadata": {},
   "source": [
    "## Regresión Lineal Polinómica"
   ]
  },
  {
   "cell_type": "markdown",
   "metadata": {},
   "source": [
    "En el caso en que el vector de características es unidimensional, la función aprendida a través de la regresión polinómica se escribe: \n",
    "\n",
    "\\begin{equation}\n",
    "h_d(x)= w_0 + w_1 x + w_2 x^2 + \\ldots + w_d x^d  \\quad \\quad \\text{(1)}\n",
    "\\label{eq:1}\n",
    "\\end{equation}\n",
    "\n",
    "siendo $d$ el grado del polinomio."
   ]
  },
  {
   "cell_type": "markdown",
   "metadata": {},
   "source": [
    "<a id=\"Parte1\"></a>\n",
    "### Ejercicio 2 - parte a)  "
   ]
  },
  {
   "cell_type": "markdown",
   "metadata": {},
   "source": [
    "Completar el código de la función `transformacion_polinomica()`. Dicha función implementa la transformación indicada en la Ecuación 1."
   ]
  },
  {
   "cell_type": "code",
   "execution_count": 3,
   "metadata": {},
   "outputs": [],
   "source": [
    "def transformacion_polinomica(X, d):\n",
    "    '''\n",
    "    Realiza la transformación polinómica de grado d de \n",
    "    las características almacenadas en X\n",
    "\n",
    "    Entrada:\n",
    "        X: arreglo de tamaño (N,1)\n",
    "        d: grado del polinomio\n",
    "    Salida:\n",
    "        Z: arreglo de tamaño (N, d+1) que en la fila i, columna j\n",
    "            almacena el valor x^j de la i-esima muestra con 0 <= j <=d \n",
    "\n",
    "    '''\n",
    "    ###########################################################\n",
    "    ######  Empieza espacio para completar código  ############\n",
    "    ###########################################################\n",
    "\n",
    "    N = X.shape[0]\n",
    "    Z = np.zeros((N, d+1))\n",
    "    for i in range(d+1):\n",
    "        Z[:,i] = (X**i).squeeze()\n",
    "\n",
    "    ###########################################################\n",
    "    ######  Termina espacio para completar código  ############\n",
    "    ###########################################################     \n",
    "    \n",
    "    return Z"
   ]
  },
  {
   "cell_type": "markdown",
   "metadata": {},
   "source": [
    "Si la implementación de `transformacion_polinomica()` es correcta la siguiente celda debería ejecutarse sin errores."
   ]
  },
  {
   "cell_type": "code",
   "execution_count": 4,
   "metadata": {},
   "outputs": [],
   "source": [
    "np.random.seed(33)\n",
    "X1 = np.random.randn(5,1)\n",
    "d=3\n",
    "Z1 = transformacion_polinomica(X1,d)\n",
    "Z1_ = np.array([[ 1.        , -0.31885351,  0.10166756, -0.03241706],\n",
    "       [ 1.        , -1.60298056,  2.56954666, -4.11893334],\n",
    "       [ 1.        , -1.53521787,  2.35689391, -3.61834565],\n",
    "       [ 1.        , -0.57040089,  0.32535718, -0.18558403],\n",
    "       [ 1.        , -0.2167283 ,  0.04697116, -0.01017998]])\n",
    "assert np.allclose(Z1,Z1_), 'Es posible que la implementación de transformación_polinomica no sea correcta'"
   ]
  },
  {
   "cell_type": "markdown",
   "metadata": {},
   "source": [
    "<a id=\"Parte2\"></a>\n",
    "### Ejercicio 2 - parte b)  "
   ]
  },
  {
   "cell_type": "markdown",
   "metadata": {},
   "source": [
    "\n",
    "\n",
    "Los parámetros óptimos $\\mathbf{w}_{\\textrm{reg}}$ del modelo lineal se obtendrán mediante la siguiente ecuación:   \n",
    "\\begin{equation}\n",
    "\\mathbf{w}_{\\textrm{reg}} = (\\mathbf{Z}^{\\intercal}\\mathbf{Z} + \\lambda \\mathbf{I})^{-1} \\mathbf{Z}^{\\intercal} \\mathbf{y}  \\qquad \\qquad \\text{(2)}\n",
    "\\end{equation}"
   ]
  },
  {
   "cell_type": "markdown",
   "metadata": {},
   "source": [
    "Indique cuál es la optimización que da lugar a la solución planteada para $\\mathbf{w}_{reg}$. En particular comente el rol que cumple $\\lambda$ en dicha optimización."
   ]
  },
  {
   "cell_type": "markdown",
   "metadata": {},
   "source": [
    "**Respuesta:**   \n",
    "\n",
    "Esta regularización es la que surge de restringir $\\textbf{w}^T\\textbf{w} \\leq C\\in\\mathbb{R}$ al minimizar el error cuadrático medio. \n",
    "\n",
    "$\\lambda$ es el factor de regularización, que es inversamente proporcional a C. Es decir, mientras mayor el valor de $\\lambda$, más se está restringiendo la hipótesis."
   ]
  },
  {
   "cell_type": "markdown",
   "metadata": {},
   "source": [
    "<a id=\"Parte3\"></a>\n",
    "### Ejercicio 2 - parte c)  "
   ]
  },
  {
   "cell_type": "markdown",
   "metadata": {},
   "source": [
    "Completar el código de la función `regresion_Ridge()`. Dicha función implementa la solución cerrada planteada en la Ecuación 2 con el agregado de que permite no regularizar el término de *bias*."
   ]
  },
  {
   "cell_type": "code",
   "execution_count": 5,
   "metadata": {},
   "outputs": [],
   "source": [
    "def regresion_Ridge(Z, y, reg = 0, regularizar_bias=False):\n",
    "    \n",
    "    '''\n",
    "    Implementa la solución cerrada de la regresión de Ridge. En esta variante se\n",
    "    permite elegir si se desea regularizar el bias (coeficiente w_0) o no.\n",
    "    Entrada:\n",
    "        Z: matríz de tamaño Nx(d+1) \n",
    "        y: valores objetivo\n",
    "        reg: coeficiente que multiplica el término de regularización\n",
    "        regularizar_bias: variable booleana que indica si se regulariza el término\n",
    "                        de bias o no.\n",
    "    Salida:\n",
    "        w_reg: parámetros encontrados mediante la regularización de Ridge\n",
    "    '''\n",
    "\n",
    "    # Si no se regulariza el coeficiente w_0 se pone el elemento [0,0]\n",
    "    # de la matríz identidad a cero      \n",
    "    reg_matrix = np.identity(Z.shape[1])\n",
    "    if not regularizar_bias:\n",
    "        reg_matrix[0,0]=0\n",
    "    \n",
    "    ########################################################################\n",
    "    ############# EMPIEZA ESPACIO PARA COMPLETAR CÓDIGO  ###################\n",
    "    ########################################################################\n",
    "    \n",
    "    Z_dag_reg = np.linalg.inv(Z.T @ Z + reg*reg_matrix) \n",
    "    w_reg = Z_dag_reg @ Z.T @ y\n",
    "    \n",
    "    ########################################################################\n",
    "    ############# TERMINA ESPACIO PARA COMPLETAR CÓDIGO  ###################\n",
    "    ########################################################################\n",
    "    \n",
    "    return w_reg\n",
    "    "
   ]
  },
  {
   "cell_type": "markdown",
   "metadata": {},
   "source": [
    "La siguiente celda debería ejecutarse sin errores si la implementación de `regresion_Ridge()` es correcta."
   ]
  },
  {
   "cell_type": "code",
   "execution_count": 6,
   "metadata": {},
   "outputs": [],
   "source": [
    "np.random.seed(43)\n",
    "y3 = np.random.randn(9)\n",
    "Z3 = np.random.randn(9,7)\n",
    "Z3[:,0]=1\n",
    "w3 = regresion_Ridge(Z3, y3, reg = 0, regularizar_bias=False )\n",
    "w3_ = np.array([ 0.99480683, -1.02402373,  0.40146952,  0.21686739,  0.23815722, -1.23370181,\n",
    " -0.64320162])\n",
    "assert np.allclose(w3, w3_), 'Revisar el caso en que reg=0 y regularizar_bias=False'\n",
    "\n",
    "w3 = regresion_Ridge(Z3, y3, reg = 3.3, regularizar_bias=False )\n",
    "w3_ = np.array([ 0.58610027, -0.09425186,  0.12976429,  0.11544501,  0.14085992, -0.39307442,\n",
    " -0.20333349]\n",
    ")\n",
    "assert np.allclose(w3, w3_), 'Revisar el caso en que reg!=0 y regularizar_bias=False'\n",
    "\n",
    "w3 = regresion_Ridge(Z3, y3, reg = 3.3, regularizar_bias=True )\n",
    "w3_ = np.array([ 0.36661236, -0.12162972,  0.12337695,  0.10003963,  0.10963488, -0.27366233,\n",
    " -0.17657389]\n",
    "\n",
    ")\n",
    "assert np.allclose(w3, w3_), 'Revisar el caso en que reg!=0 y regularizar_bias=True'"
   ]
  },
  {
   "cell_type": "markdown",
   "metadata": {},
   "source": [
    "<a id=\"Parte4\"></a>\n",
    "### Ejercicio 2 - parte d)  "
   ]
  },
  {
   "cell_type": "markdown",
   "metadata": {},
   "source": [
    "Completar el código de la función `regresion_polinomica()`. Dicha función encuentra los coeficientes de la regresión polinómica siguiendo los siguientes pasos:\n",
    "\n",
    "1. Realiza la transformación polinómica de grado $d$ de las características\n",
    "2. Cuando el argumento de entrada `estandarizar=True`, estandariza las características en el espacio transformado. La componente del vector de características correspondiente al témino de *bias* **no** debe estandarizarse. \n",
    "3. Encuentra los coeficientes de la regresión polinómica\n",
    "\n",
    "Además de los coeficientes de la regresión polinómica, la función devuelve las medias y varianzas utilizadas al estandarizar. Cuando `estandarizar=False` las medias devueltas valen cero y las desviaciones estándar valen 1."
   ]
  },
  {
   "cell_type": "code",
   "execution_count": 7,
   "metadata": {},
   "outputs": [],
   "source": [
    "def regresion_polinomica(X, y, d, reg_factor, estandarizar=False):\n",
    "    '''\n",
    "    Encuentra los coeficientes de una regresión polinomica de grado d. \n",
    "    Cuando estandarizar=True las características son estandarizadas luego \n",
    "    de realizar la transformación polinómica y antes de encontrar los coeficientes\n",
    "    de la regresión lineal.\n",
    "    \n",
    "     Entrada:\n",
    "        X: arreglo de tamaño (N,1)\n",
    "        y: arreglo de tamaño (N,) a la que mapean los valores de X \n",
    "        d: grado del polinomio\n",
    "        reg_factor: coeficiente de la regularización de Ridge. No se regularizara\n",
    "                    el término de bias.\n",
    "    Salida:\n",
    "        medias: arreglo de tamaño (d+1) con las medias utilizadas \n",
    "                en la  estandarización\n",
    "        std_dev: arreglo de tamaño (d+1) con las desviaciones estandar \n",
    "                 utilizadas en la estandarización       \n",
    "        w: arreglo de largo d+1 con los coeficientes de la regresión\n",
    "    '''\n",
    "    \n",
    "    medias = np.zeros(d+1)\n",
    "    std_dev = np.ones(d+1)\n",
    "   \n",
    "    ###########################################################\n",
    "    ######  Empieza espacio para completar código  ############\n",
    "    ###########################################################\n",
    "\n",
    "    # se realiza la transformación polinómica\n",
    "    Xt = transformacion_polinomica(X, d)\n",
    "    \n",
    "    # cuando corresponde se actualizan los arreglos medias y std_dev\n",
    "    # y se estandarizan las características en el espacio transformado \n",
    "    if estandarizar:\n",
    "        medias = np.average(Xt, axis=0) \n",
    "        std_dev = np.std(Xt, axis=0)\n",
    "    \n",
    "    Xt_std = np.ones(Xt.shape)\n",
    "    Xt_std[:,1:] = (Xt[:,1:]-medias[1:])/std_dev[1:]\n",
    "    \n",
    "    # se estima el vector de pesos \n",
    "    w = regresion_Ridge(Xt_std, y, reg=reg_factor)\n",
    "    \n",
    "    ###########################################################\n",
    "    ######  Termina espacio para completar código  ############\n",
    "    ########################################################### \n",
    "    return w, medias, std_dev"
   ]
  },
  {
   "cell_type": "markdown",
   "metadata": {},
   "source": [
    "<a id=\"Parte5\"></a>\n",
    "### Ejercicio 2 - parte e)  "
   ]
  },
  {
   "cell_type": "markdown",
   "metadata": {},
   "source": [
    "Para estimar el valor de un conjunto de características con el modelo aprendido se utilizará la función `predecir()`. Completar el código de dicha función. Observar que además de recibir el arreglo con las características y los pesos del modelo aprendido, la función recibe las medias y desviaciones estándar utilizadas para entandarizar las características de entrenamiento."
   ]
  },
  {
   "cell_type": "code",
   "execution_count": 8,
   "metadata": {},
   "outputs": [],
   "source": [
    "def predecir(X, w, medias, std_dev):\n",
    "    '''\n",
    "    Entrada:\n",
    "        X: arreglo de tamaño (N,1) con los valores a predecir\n",
    "        w: arreglo de tamaño (d+1) con los coeficientes del modelo lineal\n",
    "        medias: medias utilizadas para estandarizar los datos en el espacio transformado\n",
    "        std_dev: desviaciones estandar utilizadas para estandarizar los datos en el espacio transformado\n",
    "    Salida:\n",
    "        y_pred: valores estimados\n",
    "    '''\n",
    "    ###########################################################\n",
    "    ######  Empieza espacio para completar código  ############\n",
    "    ###########################################################\n",
    "    \n",
    "    Xt = transformacion_polinomica(X, w.shape[0]-1)\n",
    "    Xt_std = np.ones(Xt.shape)\n",
    "    Xt_std[:,1:] = (Xt[:,1:]-medias[1:])/std_dev[1:]\n",
    "    y_pred = Xt_std @ w\n",
    "    \n",
    "    ###########################################################\n",
    "    ######  Termina espacio para completar código  ############\n",
    "    ########################################################### \n",
    "    \n",
    "    return y_pred"
   ]
  },
  {
   "cell_type": "markdown",
   "metadata": {},
   "source": [
    "### Test de la Regresión Polinómica"
   ]
  },
  {
   "cell_type": "markdown",
   "metadata": {},
   "source": [
    "La siguiente celda encuentra el polinomio de grado 8 que mejor se ajusta a los datos de entrenamiento. Ejecutarla y verificar que los resultados son similares a los de la figura.\n",
    "\n",
    "![Regresion Polinómica](imgs/regresion_polinomica.png)"
   ]
  },
  {
   "cell_type": "code",
   "execution_count": 9,
   "metadata": {},
   "outputs": [
    {
     "data": {
      "image/png": "[encoded data removed]",
      "text/plain": [
       "<Figure size 432x288 with 1 Axes>"
      ]
     },
     "metadata": {
      "needs_background": "light"
     },
     "output_type": "display_data"
    }
   ],
   "source": [
    "# regresión con un polinomio de grado 8\n",
    "g = 8\n",
    "w, medias, std_dev  = regresion_polinomica(X,y,g, reg_factor=0, estandarizar=True)\n",
    "\n",
    "# output predictions\n",
    "xpoints = np.linspace(np.max(X), np.min(X), 100).reshape(-1, 1)\n",
    "ypoints = predecir(xpoints, w, medias, std_dev)\n",
    "\n",
    "# plot curve\n",
    "plt.figure()\n",
    "plt.plot(X, y, 'rx')\n",
    "plt.title('PolyRegression with g = '+str(g))\n",
    "plt.plot(xpoints, ypoints, 'b-')\n",
    "plt.xlabel('X')\n",
    "plt.ylabel('Y')\n",
    "plt.show()"
   ]
  },
  {
   "cell_type": "markdown",
   "metadata": {},
   "source": [
    "## Curvas de aprendizaje"
   ]
  },
  {
   "cell_type": "markdown",
   "metadata": {},
   "source": [
    "En este sección se analizará el compromiso sesgo-varianza utilizando las curvas de aprendizaje.  "
   ]
  },
  {
   "cell_type": "markdown",
   "metadata": {},
   "source": [
    "<a id=\"Parte6\"></a>\n",
    "### Ejercicio 2 - parte f)  "
   ]
  },
  {
   "cell_type": "markdown",
   "metadata": {},
   "source": [
    "Completar la función `curva_de_aprendizaje()`.  La función devuelve dos arreglos de tamaño igual al conjunto de entrenamiento. El *i-ésimo* indice del arreglo corresponde al error cometido con el conjunto de entrenamiento/test al entrenar con *i+1* muestras. Tomar en cuenta que:  \n",
    "\n",
    "a) El punto $i$ de la curva de aprendizaje se debe obtener a partir de entrenar con las muestras $Xtrain[0:i]$ con $i=1, \\ldots, N$.    \n",
    "b) Como preprocesamiento, antes de encontrar los coeficientes del modelo, se realizará estandarización de los datos.      \n",
    "c) El error de entrenamiento  se debe calcular sobre las muestras que efectivamente se utilizaron para entrenar mientras que el error en test se debe calcular sobre todas las muestras del conjunto de test.     \n",
    "\n",
    "A los efectos del ejercicio no será necesario alterar el orden de las muestras de entrenamiento ni promediar los resultados de muchas realizaciones."
   ]
  },
  {
   "cell_type": "code",
   "execution_count": 21,
   "metadata": {},
   "outputs": [],
   "source": [
    "def curva_de_aprendizaje(Xtrain, Ytrain, Xtest, Ytest, reg_lambda, grado):\n",
    "    '''\n",
    "    Estima la curva de aprendizaje para un conjunto de entrenamiento Xtrain, Ytrain y un\n",
    "    conjunto de test Xtest, Ytest. El entrenamiento de los modelos deberá realizarse a partir de \n",
    "    características estandarizados.\n",
    "\n",
    "    Entrada:\n",
    "        Xtrain: arreglo de (N,1), características del conjunto de entrenamiento\n",
    "        Ytrain: arreglo de (N,), etiquetas del conjunto de entrenamiento\n",
    "        Xtest: arreglo de (N,1), características del conjunto de test\n",
    "        Ytest: arreglo de (N,), etiquetas del conjunto de test\n",
    "        reg_lambda: factor de regularización\n",
    "        grado: grado de la transformación polinomial que se aplica a los datos de entrada\n",
    "\n",
    "    Salida:\n",
    "        curva_train: curva_train[i] es el error cometido en las muestras de entrenamiento Xtrain[0:(i+1)] \n",
    "                     con el modelo entrenado con Xtrain[0:(i+1)]\n",
    "        curva_test: curva_test[i] es el error en el conjunto de test del modelo entrenado con Xtrain[0:(i+1)]\n",
    "    '''\n",
    "\n",
    "    N = len(Xtrain)\n",
    "\n",
    "    curva_train = np.zeros(N)\n",
    "    curva_test = np.zeros(N)\n",
    "\n",
    "\n",
    "    # se comienza en g porque se necesitan al menos g+1 muestras para determinar \n",
    "    # los coeficientes de un polinomio de grado g\n",
    "    for i in range(grado, N):\n",
    "        \n",
    "        ###########################################################\n",
    "        ######  Empieza espacio para completar código  ############\n",
    "        ###########################################################\n",
    "        w, medias, std_devs = regresion_polinomica(Xtrain[:i+1], Ytrain[:i+1], d=grado, \n",
    "                                                   reg_factor=reg_lambda, estandarizar=True)\n",
    "\n",
    "        Ytrain_pred = predecir(Xtrain[0:i+1], w, medias, std_devs)\n",
    "        Ein = (1/(i+1))*np.sum((Ytrain_pred - Ytrain[0:i+1])**2)\n",
    "        curva_train[i] = Ein\n",
    "\n",
    "        Ytest_pred = predecir(Xtest, w, medias, std_devs)\n",
    "        Eout = (1/Ytest.shape[0])*np.sum((Ytest_pred - Ytest)**2)\n",
    "        curva_test[i] = Eout\n",
    "\n",
    "        ###########################################################\n",
    "        ######  Termina espacio para completar código  ############\n",
    "        ###########################################################\n",
    "        \n",
    "    return curva_train, curva_test"
   ]
  },
  {
   "cell_type": "markdown",
   "metadata": {},
   "source": [
    "Se provee una función para graficar las curvas de aprendizaje."
   ]
  },
  {
   "cell_type": "code",
   "execution_count": 19,
   "metadata": {},
   "outputs": [],
   "source": [
    "def mostrar_curva_aprendizaje(curva_train, curva_test, reg_factor, grado):\n",
    "    '''\n",
    "        Muestra la curva de aprendizaje\n",
    "    '''\n",
    "    minX = 1\n",
    "    maxY = 4 #max(curva_test[minX+1:])\n",
    "\n",
    "    xs = 1 + np.arange(len(curva_train))\n",
    "    plt.plot(xs[grado:], curva_train[grado:], 'r-o')\n",
    "    plt.plot(xs[grado:], curva_test[grado:], 'b-o')\n",
    "    #plt.plot(xs, np.ones(len(xs)), 'k--')\n",
    "    plt.legend(['Error entrenamiento', 'Error test'], loc='best')\n",
    "    plt.title('Curva de aprendizaje (g='+str(grado)+', lambda='+str(reg_factor)+')')\n",
    "    plt.xlabel('Número de muestras de entrenamiento')\n",
    "    plt.ylabel('Error')\n",
    "    #plt.yscale('log')\n",
    "    plt.ylim(0,maxY)\n",
    "    plt.xlim((minX, 11))\n",
    "    plt.grid()"
   ]
  },
  {
   "cell_type": "markdown",
   "metadata": {},
   "source": [
    "La siguiente celda genera una curva de aprendizaje promedio mediante validación cruzada *leave-one-out*. Para cada uno de los subconjuntos de entrenamiento/test obtenidos estima la curva de aprendizaje utilizando la función `curva_de_aprendizaje()` implementada más arriba y luego las promedia. "
   ]
  },
  {
   "cell_type": "code",
   "execution_count": 16,
   "metadata": {},
   "outputs": [],
   "source": [
    "def generar_curva_leave_one_out(X, y, grado, reg_factor):\n",
    "    '''\n",
    "        Genera una curva de aprendizaje mediante validación \n",
    "        cruzada utilizano el criterio leave-one-out\n",
    "    '''\n",
    "\n",
    "    n = len(X)\n",
    "\n",
    "    training_errors = np.zeros((n, n-1))\n",
    "    testing_errors = np.zeros((n, n-1))\n",
    "\n",
    "    loo = model_selection.LeaveOneOut()\n",
    "    i = 0\n",
    "    for train_index, test_index in loo.split(X):\n",
    "        \n",
    "        X_train, X_test = X[train_index], X[test_index]\n",
    "        y_train, y_test = y[train_index], y[test_index]\n",
    "\n",
    "        (errTrain, errTest) = curva_de_aprendizaje(X_train, y_train, X_test, y_test, reg_factor, grado)\n",
    "\n",
    "        training_errors[i, :] = errTrain\n",
    "        testing_errors[i, :] = errTest\n",
    "        i = i + 1\n",
    "\n",
    "    curva_train = training_errors.mean(axis=0)\n",
    "    curva_test = testing_errors.mean(axis=0)\n",
    "\n",
    "    mostrar_curva_aprendizaje(curva_train, curva_test, reg_factor, grado)"
   ]
  },
  {
   "cell_type": "markdown",
   "metadata": {},
   "source": [
    "La siguiente celda levanta un conjunto de datos y estima la **curva de aprendizaje promedio** para distintos factores de regularización y grados de la transformación polinómica. Ejecutarlo y corroborar que los resultados son similares a los de la figura que se muestra más abajo.  "
   ]
  },
  {
   "cell_type": "code",
   "execution_count": 22,
   "metadata": {},
   "outputs": [
    {
     "data": {
      "image/png": "[encoded data removed]",
      "text/plain": [
       "<Figure size 1500x900 with 6 Axes>"
      ]
     },
     "metadata": {
      "needs_background": "light"
     },
     "output_type": "display_data"
    }
   ],
   "source": [
    "# se generan las curvas de aprendizaje para distintos grado de polinomio y factores de regularización\n",
    "plt.figure(figsize=(15, 9), dpi=100)\n",
    "plt.subplot(2, 3, 1)\n",
    "generar_curva_leave_one_out(X, y, 1, 0)\n",
    "plt.subplot(2, 3, 2)\n",
    "generar_curva_leave_one_out(X, y, 4, 0)\n",
    "plt.subplot(2, 3, 3)\n",
    "generar_curva_leave_one_out(X, y, 7, 0)\n",
    "plt.subplot(2, 3, 4)\n",
    "generar_curva_leave_one_out(X, y, 8, .1)\n",
    "plt.subplot(2, 3, 5)\n",
    "generar_curva_leave_one_out(X, y, 8, 1)\n",
    "plt.subplot(2, 3, 6)\n",
    "generar_curva_leave_one_out(X, y, 8, 100)\n",
    "plt.show()"
   ]
  },
  {
   "cell_type": "markdown",
   "metadata": {},
   "source": [
    "![Curva de aprendizaje](imgs/curvas_aprendizaje.png)"
   ]
  },
  {
   "cell_type": "markdown",
   "metadata": {},
   "source": [
    "<a id=\"Parte7\"></a>\n",
    "### Ejercicio 2 - parte g)  "
   ]
  },
  {
   "cell_type": "markdown",
   "metadata": {},
   "source": [
    "Asumiendo que los resultados son los que se muestran en la figura de arriba y tomando en cuenta que:\n",
    " - Se dispone de errores de entrenamiento y test cuando el número de muestras utilizadas en el entrenamiento es mayor que el grado del polinomio.\n",
    " - El rango mostrado en el *eje y* es [0, 4] para todas las gráficas.     \n",
    " - Cuando para un determinado número de muestras de entrenamiento se muestra sólo el error con el conjunto de entrenamiento (punto rojo) es porque el error en el conjunto de test es mayor que 4. \n",
    " \n",
    "Responder a las siguientes preguntas:"
   ]
  },
  {
   "cell_type": "markdown",
   "metadata": {},
   "source": [
    "**Pregunta 2.g.1:** En el modelo sin regularizar, cuando *g=1* el error de entrenamiento es muy alto comparado con *g=4* y *g=7*. ¿Es esto debido a que el modelo tiene un alto sesgo? Justifique su respuesta."
   ]
  },
  {
   "cell_type": "markdown",
   "metadata": {},
   "source": [
    "**Respuesta:**   \n",
    "\n",
    "En el caso de g=4, efectivamente el sesgo es menor. En el caso de g=7, no se puede determinar el sesgo.\n",
    "\n",
    "Lo que realmente se entra en juego en este caso es el sobreajuste. Mientras más compleja es nuestra hipotesis, más se ajusta nuesto modelos a los datos de entrenamiento, por lo que el error de entrenamiento disminuye. Esto no se traduce directamente a un menor sesgo, es más, se puede observar que el polinomio de grado 4 tiene un menor sesgo que el polinomio de grado "
   ]
  },
  {
   "cell_type": "markdown",
   "metadata": {},
   "source": [
    "**Pregunta 2.g.2:** En el caso del modelos sin regularizar con $g=7$. ¿Cómo es la varianza respecto al modelo $g=1$?"
   ]
  },
  {
   "cell_type": "markdown",
   "metadata": {},
   "source": [
    "**Respuesta:**   \n",
    "\n",
    "La varianza parece ser mucho mayor. Al no poder observar claramente la asíntota no se puede dar una respuesta concreta, pero coincide con lo esperado teoricamente. Mientras más compleja es nuestra hipótesis más se sobreajusta nuestro modelo a nuestro los datos, generando un aumento en la varianza. "
   ]
  },
  {
   "cell_type": "markdown",
   "metadata": {},
   "source": [
    "**Pregunta 2.g.3:** Las tres gráficas de abajo muestran la evolución del error de test en función de la regularización cuando **g=8**. En el caso en que el **número de muestras** de entrenamiento es **10**, compárelas en términos del compromiso sesgo-varianza indicando cuál de las situaciones considera más favorable."
   ]
  },
  {
   "cell_type": "markdown",
   "metadata": {},
   "source": [
    "**Respuesta:**    \n",
    "\n",
    "La más favorable es para $\\lambda=1$, donde el tanto el sesgo como la varianza parecen ser mínimos."
   ]
  }
 ],
 "metadata": {
  "kernelspec": {
   "display_name": "Python 3 (ipykernel)",
   "language": "python",
   "name": "python3"
  },
  "language_info": {
   "codemirror_mode": {
    "name": "ipython",
    "version": 3
   },
   "file_extension": ".py",
   "mimetype": "text/x-python",
   "name": "python",
   "nbconvert_exporter": "python",
   "pygments_lexer": "ipython3",
   "version": "3.8.10"
  }
 },
 "nbformat": 4,
 "nbformat_minor": 4
}
